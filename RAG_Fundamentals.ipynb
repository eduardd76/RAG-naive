{
  "nbformat": 4,
  "nbformat_minor": 0,
  "metadata": {
    "colab": {
      "provenance": [],
      "authorship_tag": "ABX9TyMpOTJzVvcMAaOstM8cRfld",
      "include_colab_link": true
    },
    "kernelspec": {
      "name": "python3",
      "display_name": "Python 3"
    },
    "language_info": {
      "name": "python"
    }
  },
  "cells": [
    {
      "cell_type": "markdown",
      "metadata": {
        "id": "view-in-github",
        "colab_type": "text"
      },
      "source": [
        "<a href=\"https://colab.research.google.com/github/eduardd76/RAG-naive/blob/main/RAG_Fundamentals.ipynb\" target=\"_parent\"><img src=\"https://colab.research.google.com/assets/colab-badge.svg\" alt=\"Open In Colab\"/></a>"
      ]
    },
    {
      "cell_type": "code",
      "execution_count": null,
      "metadata": {
        "id": "CfUWF5yyq2Br"
      },
      "outputs": [],
      "source": [
        "# Install required packages\n",
        "!pip install langchain openai faiss-cpu"
      ]
    },
    {
      "cell_type": "code",
      "source": [
        "!pip install -U langchain-community"
      ],
      "metadata": {
        "id": "J_A5bP8ZrBsN"
      },
      "execution_count": null,
      "outputs": []
    },
    {
      "cell_type": "code",
      "source": [
        "!pip install tiktoken"
      ],
      "metadata": {
        "id": "xYsYAWh-rt0f"
      },
      "execution_count": null,
      "outputs": []
    },
    {
      "cell_type": "markdown",
      "source": [
        "# Import necessary modules"
      ],
      "metadata": {
        "id": "RyPtLKgVq8fP"
      }
    },
    {
      "cell_type": "code",
      "source": [
        "import os\n",
        "from langchain.embeddings.openai import OpenAIEmbeddings\n",
        "from langchain.vectorstores import FAISS\n",
        "from langchain.docstore.document import Document\n",
        "from langchain.chains import RetrievalQA\n",
        "from langchain.llms import OpenAI"
      ],
      "metadata": {
        "id": "cQ4CLO4Zq834"
      },
      "execution_count": 10,
      "outputs": []
    },
    {
      "cell_type": "markdown",
      "source": [
        "# 1. Prepare some example documents"
      ],
      "metadata": {
        "id": "72VospgKrVlE"
      }
    },
    {
      "cell_type": "code",
      "source": [
        "documents = [\n",
        "    Document(page_content=(\n",
        "        \"OSPF (Open Shortest Path First) is a link-state routing protocol that uses a hierarchical area design. \"\n",
        "        \"Area 0 is the backbone, and all other areas should connect to it to ensure optimal routing updates.\"\n",
        "    )),\n",
        "    Document(page_content=(\n",
        "        \"When designing a multi-site OSPF deployment, it's recommended to have smaller areas for sites that \"\n",
        "        \"are geographically distant. This reduces the size of the link-state database (LSDB) and improves convergence.\"\n",
        "    )),\n",
        "    Document(page_content=(\n",
        "        \"Summarization between OSPF areas helps minimize routing table size and reduces unnecessary route advertisements. \"\n",
        "        \"Ensure each site has a well-defined IP addressing scheme for effective summarization.\"\n",
        "    ))\n",
        "]"
      ],
      "metadata": {
        "id": "NwDsk4_zrWup"
      },
      "execution_count": 11,
      "outputs": []
    },
    {
      "cell_type": "code",
      "source": [
        "from google.colab import userdata\n",
        "import os\n",
        "openai_api_key = userdata.get('openai_api_key')\n",
        "os.environ['OPENAI_API_KEY'] = openai_api_key"
      ],
      "metadata": {
        "id": "AAGgP8ec_gbV"
      },
      "execution_count": 12,
      "outputs": []
    },
    {
      "cell_type": "markdown",
      "source": [
        "# 2. Create a vector store from documents using OpenAI embeddings and FAISS"
      ],
      "metadata": {
        "id": "IYW-PDt9rc0B"
      }
    },
    {
      "cell_type": "code",
      "source": [
        "# Initialize the OpenAI embeddings model\n",
        "embeddings = OpenAIEmbeddings(openai_api_key = openai_api_key)\n"
      ],
      "metadata": {
        "id": "MxQUsrq0rdML",
        "colab": {
          "base_uri": "https://localhost:8080/"
        },
        "outputId": "b5e9cf0e-457c-4b96-a5f1-04f6c1cb447b"
      },
      "execution_count": 7,
      "outputs": [
        {
          "output_type": "stream",
          "name": "stderr",
          "text": [
            "<ipython-input-7-cf9b22668cc8>:2: LangChainDeprecationWarning: The class `OpenAIEmbeddings` was deprecated in LangChain 0.0.9 and will be removed in 1.0. An updated version of the class exists in the :class:`~langchain-openai package and should be used instead. To use it run `pip install -U :class:`~langchain-openai` and import as `from :class:`~langchain_openai import OpenAIEmbeddings``.\n",
            "  embeddings = OpenAIEmbeddings(openai_api_key = openai_api_key)\n"
          ]
        }
      ]
    },
    {
      "cell_type": "code",
      "source": [
        "# Create a FAISS vector store from the documents\n",
        "vectorstore = FAISS.from_documents(documents, embeddings)"
      ],
      "metadata": {
        "id": "MU6Y5CFPrpeQ"
      },
      "execution_count": 13,
      "outputs": []
    },
    {
      "cell_type": "markdown",
      "source": [
        "# 3. Create a retriever from the vector store"
      ],
      "metadata": {
        "id": "EK50x_Mzryvl"
      }
    },
    {
      "cell_type": "code",
      "source": [
        "retriever = vectorstore.as_retriever(search_type=\"similarity\", search_kwargs={\"k\": 2})"
      ],
      "metadata": {
        "id": "SeWw4W8ErzH0"
      },
      "execution_count": 14,
      "outputs": []
    },
    {
      "cell_type": "markdown",
      "source": [
        "# 4. Set up the OpenAI LLM and build a RetrievalQA chain"
      ],
      "metadata": {
        "id": "jAiVdE9Vr06z"
      }
    },
    {
      "cell_type": "code",
      "source": [
        "llm = OpenAI(openai_api_key = openai_api_key, temperature=0)  # Using a deterministic output by setting temperature=0"
      ],
      "metadata": {
        "id": "ARGWcfqfr2dX",
        "colab": {
          "base_uri": "https://localhost:8080/"
        },
        "outputId": "9edc4f62-ee1c-4ea2-82b9-1cc962989010"
      },
      "execution_count": 15,
      "outputs": [
        {
          "output_type": "stream",
          "name": "stderr",
          "text": [
            "<ipython-input-15-3e466ccd2d4c>:1: LangChainDeprecationWarning: The class `OpenAI` was deprecated in LangChain 0.0.10 and will be removed in 1.0. An updated version of the class exists in the :class:`~langchain-openai package and should be used instead. To use it run `pip install -U :class:`~langchain-openai` and import as `from :class:`~langchain_openai import OpenAI``.\n",
            "  llm = OpenAI(openai_api_key = openai_api_key, temperature=0)  # Using a deterministic output by setting temperature=0\n"
          ]
        }
      ]
    },
    {
      "cell_type": "code",
      "source": [
        "# Create a RetrievalQA chain that uses the retriever and the LLM\n",
        "qa_chain = RetrievalQA.from_chain_type(llm=llm, chain_type=\"stuff\", retriever=retriever)"
      ],
      "metadata": {
        "id": "S9o9akhsr-AT"
      },
      "execution_count": 16,
      "outputs": []
    },
    {
      "cell_type": "markdown",
      "source": [
        "# 5. Ask a query and get the result"
      ],
      "metadata": {
        "id": "UzWOQTNEr_0e"
      }
    },
    {
      "cell_type": "code",
      "source": [
        "query = \"What is OSPF?\"\n",
        "result = qa_chain.run(query)\n",
        "print(\"Query:\", query)\n",
        "print(\"Answer:\", result)"
      ],
      "metadata": {
        "colab": {
          "base_uri": "https://localhost:8080/"
        },
        "id": "gh1rEZT5sBLc",
        "outputId": "2408b3ed-038f-478b-fd0f-716bf7b8ff14"
      },
      "execution_count": 17,
      "outputs": [
        {
          "output_type": "stream",
          "name": "stderr",
          "text": [
            "<ipython-input-17-ce80cf9aed4d>:2: LangChainDeprecationWarning: The method `Chain.run` was deprecated in langchain 0.1.0 and will be removed in 1.0. Use :meth:`~invoke` instead.\n",
            "  result = qa_chain.run(query)\n"
          ]
        },
        {
          "output_type": "stream",
          "name": "stdout",
          "text": [
            "Query: What is OSPF?\n",
            "Answer:  OSPF is a link-state routing protocol that uses a hierarchical area design.\n"
          ]
        }
      ]
    },
    {
      "cell_type": "markdown",
      "source": [
        "**2 USE CASE2:Lets use wikipedia as source of data**"
      ],
      "metadata": {
        "id": "CXRh2UwvsUVO"
      }
    },
    {
      "cell_type": "code",
      "source": [
        "!pip install  wikipedia-api"
      ],
      "metadata": {
        "colab": {
          "base_uri": "https://localhost:8080/"
        },
        "id": "olR1gAlpsXDX",
        "outputId": "e3a7df35-fda8-4a57-9d46-e7d2d5a072ee"
      },
      "execution_count": 18,
      "outputs": [
        {
          "output_type": "stream",
          "name": "stdout",
          "text": [
            "Collecting wikipedia-api\n",
            "  Downloading wikipedia_api-0.8.1.tar.gz (19 kB)\n",
            "  Preparing metadata (setup.py) ... \u001b[?25l\u001b[?25hdone\n",
            "Requirement already satisfied: requests in /usr/local/lib/python3.11/dist-packages (from wikipedia-api) (2.32.3)\n",
            "Requirement already satisfied: charset-normalizer<4,>=2 in /usr/local/lib/python3.11/dist-packages (from requests->wikipedia-api) (3.4.1)\n",
            "Requirement already satisfied: idna<4,>=2.5 in /usr/local/lib/python3.11/dist-packages (from requests->wikipedia-api) (3.10)\n",
            "Requirement already satisfied: urllib3<3,>=1.21.1 in /usr/local/lib/python3.11/dist-packages (from requests->wikipedia-api) (2.3.0)\n",
            "Requirement already satisfied: certifi>=2017.4.17 in /usr/local/lib/python3.11/dist-packages (from requests->wikipedia-api) (2024.12.14)\n",
            "Building wheels for collected packages: wikipedia-api\n",
            "  Building wheel for wikipedia-api (setup.py) ... \u001b[?25l\u001b[?25hdone\n",
            "  Created wheel for wikipedia-api: filename=Wikipedia_API-0.8.1-py3-none-any.whl size=15384 sha256=c1d0adc230d2e8e66d2ea13a776638c91e36560f09553d5034131ac8f74f9aaf\n",
            "  Stored in directory: /root/.cache/pip/wheels/0b/0f/39/e8214ec038ccd5aeb8c82b957289f2f3ab2251febeae5c2860\n",
            "Successfully built wikipedia-api\n",
            "Installing collected packages: wikipedia-api\n",
            "Successfully installed wikipedia-api-0.8.1\n"
          ]
        }
      ]
    },
    {
      "cell_type": "code",
      "source": [
        "from langchain.document_loaders import WikipediaLoader"
      ],
      "metadata": {
        "id": "8Z9bmQlrseX9"
      },
      "execution_count": 19,
      "outputs": []
    },
    {
      "cell_type": "code",
      "source": [
        "!pip install wikipedia"
      ],
      "metadata": {
        "id": "wnhN0EN4s_jk",
        "colab": {
          "base_uri": "https://localhost:8080/"
        },
        "outputId": "2de48d48-2ff3-4eef-8d46-fe0c18bafa14"
      },
      "execution_count": 20,
      "outputs": [
        {
          "output_type": "stream",
          "name": "stdout",
          "text": [
            "Installing collected packages: wikipedia\n",
            "Successfully installed wikipedia-1.4.0\n"
          ]
        }
      ]
    },
    {
      "cell_type": "code",
      "source": [
        "import wikipedia"
      ],
      "metadata": {
        "id": "m8_XD0-gtD3d"
      },
      "execution_count": 21,
      "outputs": []
    },
    {
      "cell_type": "code",
      "source": [
        "# Search what you want\n",
        "search_results = wikipedia.search(\"OSPF\")\n",
        "print(\"Search results:\", search_results)"
      ],
      "metadata": {
        "colab": {
          "base_uri": "https://localhost:8080/"
        },
        "id": "BAaybYj_tFZP",
        "outputId": "31d578c9-2329-406c-9a62-bdc0d61e1eeb"
      },
      "execution_count": 22,
      "outputs": [
        {
          "output_type": "stream",
          "name": "stdout",
          "text": [
            "Search results: ['Open Shortest Path First', 'IS-IS', 'Link-state routing protocol', 'Link-state advertisement', 'Interior gateway protocol', 'Stub network', 'Administrative distance', 'Routing Information Protocol', 'Bidirectional Forwarding Detection', 'Virtual IP address']\n"
          ]
        }
      ]
    },
    {
      "cell_type": "code",
      "source": [
        "# Choose the first result as an example\n",
        "if search_results:\n",
        "    page_title = search_results[0]\n",
        "    print(\"Selected page title:\", page_title)"
      ],
      "metadata": {
        "colab": {
          "base_uri": "https://localhost:8080/"
        },
        "id": "ZGhU5iyntKBr",
        "outputId": "5d1a8aeb-d47c-473b-e9b4-c525ec841c84"
      },
      "execution_count": 23,
      "outputs": [
        {
          "output_type": "stream",
          "name": "stdout",
          "text": [
            "Selected page title: Open Shortest Path First\n"
          ]
        }
      ]
    },
    {
      "cell_type": "markdown",
      "source": [
        "# 6. Load a Wikipedia page as a document"
      ],
      "metadata": {
        "id": "DQMhcGsUsh2Y"
      }
    },
    {
      "cell_type": "code",
      "source": [
        "loader = WikipediaLoader(\"Open Shortest Path First\")\n",
        "documents = loader.load()"
      ],
      "metadata": {
        "id": "tRJnxKzdsjiT"
      },
      "execution_count": 24,
      "outputs": []
    },
    {
      "cell_type": "code",
      "source": [
        "print(f\"Loaded {len(documents)} document(s) from Wikipedia.\")"
      ],
      "metadata": {
        "colab": {
          "base_uri": "https://localhost:8080/"
        },
        "id": "a7b1PhQ7thN9",
        "outputId": "a5154eda-5dec-4db1-bd82-964e502695bc"
      },
      "execution_count": 25,
      "outputs": [
        {
          "output_type": "stream",
          "name": "stdout",
          "text": [
            "Loaded 25 document(s) from Wikipedia.\n"
          ]
        }
      ]
    },
    {
      "cell_type": "code",
      "source": [
        "from langchain.text_splitter import RecursiveCharacterTextSplitter"
      ],
      "metadata": {
        "id": "gIQNqyRduAy5"
      },
      "execution_count": 26,
      "outputs": []
    },
    {
      "cell_type": "markdown",
      "source": [
        "# 7. Chunk the document(s) into smaller pieces"
      ],
      "metadata": {
        "id": "ivgmytCBuImy"
      }
    },
    {
      "cell_type": "code",
      "source": [
        "# Create a text splitter with a chunk size and overlap (tune these values as needed)\n",
        "text_splitter = RecursiveCharacterTextSplitter(chunk_size=500, chunk_overlap=50)"
      ],
      "metadata": {
        "id": "2ewn42w4uKSa"
      },
      "execution_count": 27,
      "outputs": []
    },
    {
      "cell_type": "code",
      "source": [
        "# Split the loaded documents into smaller chunks\n",
        "chunked_documents = text_splitter.split_documents(documents)\n",
        "print(f\"Split documents into {len(chunked_documents)} chunks.\")"
      ],
      "metadata": {
        "colab": {
          "base_uri": "https://localhost:8080/"
        },
        "id": "c0ygZeLUuN_b",
        "outputId": "6ffe00ef-7895-425d-cda6-bd46a5a02353"
      },
      "execution_count": 28,
      "outputs": [
        {
          "output_type": "stream",
          "name": "stdout",
          "text": [
            "Split documents into 222 chunks.\n"
          ]
        }
      ]
    },
    {
      "cell_type": "markdown",
      "source": [
        "# 8. Create a vector store from the chunked documents using OpenAI embeddings and FAISS"
      ],
      "metadata": {
        "id": "OvC1ybfhuP_L"
      }
    },
    {
      "cell_type": "code",
      "source": [
        "from google.colab import userdata\n",
        "import os\n",
        "openai_api_key = userdata.get('openai_api_key')\n",
        "os.environ['OPENAI_API_KEY'] = openai_api_key"
      ],
      "metadata": {
        "id": "m5V2jg_YAVII"
      },
      "execution_count": 29,
      "outputs": []
    },
    {
      "cell_type": "code",
      "source": [
        "# Initialize the OpenAI embeddings model\n",
        "embeddings = OpenAIEmbeddings(openai_api_key = openai_api_key)\n",
        "\n",
        "\n",
        "# Create a FAISS vector store from the chunked documents\n",
        "vectorstore = FAISS.from_documents(chunked_documents, embeddings)"
      ],
      "metadata": {
        "id": "l9yWsLtLuSL0"
      },
      "execution_count": 30,
      "outputs": []
    },
    {
      "cell_type": "markdown",
      "source": [
        "# 9. Create a retriever from the vector store"
      ],
      "metadata": {
        "id": "J5pA58YVub8B"
      }
    },
    {
      "cell_type": "code",
      "source": [
        "retriever = vectorstore.as_retriever(search_type=\"similarity\", search_kwargs={\"k\": 5})"
      ],
      "metadata": {
        "id": "vVfi6LCPudRr"
      },
      "execution_count": 31,
      "outputs": []
    },
    {
      "cell_type": "code",
      "source": [
        "llm = OpenAI(openai_api_key = openai_api_key, temperature=0)  # Using a deterministic output by setting temperature=0\n",
        "\n",
        "# Create a RetrievalQA chain that uses the retriever and the LLM\n",
        "qa_chain = RetrievalQA.from_chain_type(llm=llm, chain_type=\"stuff\", retriever=retriever)"
      ],
      "metadata": {
        "id": "LwjihmFBugIT"
      },
      "execution_count": 32,
      "outputs": []
    },
    {
      "cell_type": "markdown",
      "source": [
        "# 10. Ask a query and get the result"
      ],
      "metadata": {
        "id": "vuutgiXgulBd"
      }
    },
    {
      "cell_type": "code",
      "source": [
        "query = \"What is OSPF?\"\n",
        "result = qa_chain.run(query)\n",
        "print(\"Query:\", query)\n",
        "print(\"Answer:\", result)"
      ],
      "metadata": {
        "colab": {
          "base_uri": "https://localhost:8080/"
        },
        "id": "uq0uUR9VumAz",
        "outputId": "bd2666c5-ba60-47ed-f879-4518f5c27ebf"
      },
      "execution_count": 33,
      "outputs": [
        {
          "output_type": "stream",
          "name": "stdout",
          "text": [
            "Query: What is OSPF?\n",
            "Answer:  OSPF is an interior gateway protocol (IGP) for routing Internet Protocol (IP) packets within a single routing domain, such as an autonomous system. It gathers link state information from available routers and constructs a topology map of the network, which is presented as a routing table to the internet layer for routing packets by their destination IP address. It supports both IPv4 and IPv6 networks and is commonly used in large enterprise networks.\n"
          ]
        }
      ]
    },
    {
      "cell_type": "markdown",
      "source": [
        "USE CASE3: LETS use a local PDF as data source"
      ],
      "metadata": {
        "id": "x-V9e8_pu5hl"
      }
    },
    {
      "cell_type": "code",
      "source": [
        "from google.colab import files\n",
        "from langchain.document_loaders import PyPDFLoader"
      ],
      "metadata": {
        "id": "VioVNoYPu_7O"
      },
      "execution_count": 34,
      "outputs": []
    },
    {
      "cell_type": "code",
      "source": [
        "!pip install pypdf"
      ],
      "metadata": {
        "colab": {
          "base_uri": "https://localhost:8080/"
        },
        "id": "qucXmkuuv0Oa",
        "outputId": "5ae51c51-3fb6-4c2c-d967-9b1f778d0de7"
      },
      "execution_count": 35,
      "outputs": [
        {
          "output_type": "stream",
          "name": "stdout",
          "text": [
            "Collecting pypdf\n",
            "  Downloading pypdf-5.2.0-py3-none-any.whl.metadata (7.2 kB)\n",
            "Downloading pypdf-5.2.0-py3-none-any.whl (298 kB)\n",
            "\u001b[?25l   \u001b[90m━━━━━━━━━━━━━━━━━━━━━━━━━━━━━━━━━━━━━━━━\u001b[0m \u001b[32m0.0/298.7 kB\u001b[0m \u001b[31m?\u001b[0m eta \u001b[36m-:--:--\u001b[0m\r\u001b[2K   \u001b[91m━━━━━━━━━━━━━━━━━━━━━━━━━━\u001b[0m\u001b[90m╺\u001b[0m\u001b[90m━━━━━━━━━━━━━\u001b[0m \u001b[32m194.6/298.7 kB\u001b[0m \u001b[31m6.5 MB/s\u001b[0m eta \u001b[36m0:00:01\u001b[0m\r\u001b[2K   \u001b[90m━━━━━━━━━━━━━━━━━━━━━━━━━━━━━━━━━━━━━━━━\u001b[0m \u001b[32m298.7/298.7 kB\u001b[0m \u001b[31m5.5 MB/s\u001b[0m eta \u001b[36m0:00:00\u001b[0m\n",
            "\u001b[?25hInstalling collected packages: pypdf\n",
            "Successfully installed pypdf-5.2.0\n"
          ]
        }
      ]
    },
    {
      "cell_type": "markdown",
      "source": [
        "# 11. Upload the PDF from your local computer"
      ],
      "metadata": {
        "id": "pdvJx8xevNoV"
      }
    },
    {
      "cell_type": "code",
      "source": [
        "print(\"Please upload your PDF file...\")\n",
        "uploaded = files.upload()\n",
        "\n",
        "# Assuming you uploaded one PDF, extract its filename\n",
        "pdf_filename = list(uploaded.keys())[0]\n",
        "print(f\"Uploaded file: {pdf_filename}\")"
      ],
      "metadata": {
        "colab": {
          "base_uri": "https://localhost:8080/",
          "height": 110
        },
        "id": "hIxvyU8wvOWk",
        "outputId": "9eeabb54-7b33-4ed2-e2e3-b93f4746696a"
      },
      "execution_count": 36,
      "outputs": [
        {
          "output_type": "stream",
          "name": "stdout",
          "text": [
            "Please upload your PDF file...\n"
          ]
        },
        {
          "output_type": "display_data",
          "data": {
            "text/plain": [
              "<IPython.core.display.HTML object>"
            ],
            "text/html": [
              "\n",
              "     <input type=\"file\" id=\"files-1f3e8959-8a3e-4acc-aa22-c76ad96eb911\" name=\"files[]\" multiple disabled\n",
              "        style=\"border:none\" />\n",
              "     <output id=\"result-1f3e8959-8a3e-4acc-aa22-c76ad96eb911\">\n",
              "      Upload widget is only available when the cell has been executed in the\n",
              "      current browser session. Please rerun this cell to enable.\n",
              "      </output>\n",
              "      <script>// Copyright 2017 Google LLC\n",
              "//\n",
              "// Licensed under the Apache License, Version 2.0 (the \"License\");\n",
              "// you may not use this file except in compliance with the License.\n",
              "// You may obtain a copy of the License at\n",
              "//\n",
              "//      http://www.apache.org/licenses/LICENSE-2.0\n",
              "//\n",
              "// Unless required by applicable law or agreed to in writing, software\n",
              "// distributed under the License is distributed on an \"AS IS\" BASIS,\n",
              "// WITHOUT WARRANTIES OR CONDITIONS OF ANY KIND, either express or implied.\n",
              "// See the License for the specific language governing permissions and\n",
              "// limitations under the License.\n",
              "\n",
              "/**\n",
              " * @fileoverview Helpers for google.colab Python module.\n",
              " */\n",
              "(function(scope) {\n",
              "function span(text, styleAttributes = {}) {\n",
              "  const element = document.createElement('span');\n",
              "  element.textContent = text;\n",
              "  for (const key of Object.keys(styleAttributes)) {\n",
              "    element.style[key] = styleAttributes[key];\n",
              "  }\n",
              "  return element;\n",
              "}\n",
              "\n",
              "// Max number of bytes which will be uploaded at a time.\n",
              "const MAX_PAYLOAD_SIZE = 100 * 1024;\n",
              "\n",
              "function _uploadFiles(inputId, outputId) {\n",
              "  const steps = uploadFilesStep(inputId, outputId);\n",
              "  const outputElement = document.getElementById(outputId);\n",
              "  // Cache steps on the outputElement to make it available for the next call\n",
              "  // to uploadFilesContinue from Python.\n",
              "  outputElement.steps = steps;\n",
              "\n",
              "  return _uploadFilesContinue(outputId);\n",
              "}\n",
              "\n",
              "// This is roughly an async generator (not supported in the browser yet),\n",
              "// where there are multiple asynchronous steps and the Python side is going\n",
              "// to poll for completion of each step.\n",
              "// This uses a Promise to block the python side on completion of each step,\n",
              "// then passes the result of the previous step as the input to the next step.\n",
              "function _uploadFilesContinue(outputId) {\n",
              "  const outputElement = document.getElementById(outputId);\n",
              "  const steps = outputElement.steps;\n",
              "\n",
              "  const next = steps.next(outputElement.lastPromiseValue);\n",
              "  return Promise.resolve(next.value.promise).then((value) => {\n",
              "    // Cache the last promise value to make it available to the next\n",
              "    // step of the generator.\n",
              "    outputElement.lastPromiseValue = value;\n",
              "    return next.value.response;\n",
              "  });\n",
              "}\n",
              "\n",
              "/**\n",
              " * Generator function which is called between each async step of the upload\n",
              " * process.\n",
              " * @param {string} inputId Element ID of the input file picker element.\n",
              " * @param {string} outputId Element ID of the output display.\n",
              " * @return {!Iterable<!Object>} Iterable of next steps.\n",
              " */\n",
              "function* uploadFilesStep(inputId, outputId) {\n",
              "  const inputElement = document.getElementById(inputId);\n",
              "  inputElement.disabled = false;\n",
              "\n",
              "  const outputElement = document.getElementById(outputId);\n",
              "  outputElement.innerHTML = '';\n",
              "\n",
              "  const pickedPromise = new Promise((resolve) => {\n",
              "    inputElement.addEventListener('change', (e) => {\n",
              "      resolve(e.target.files);\n",
              "    });\n",
              "  });\n",
              "\n",
              "  const cancel = document.createElement('button');\n",
              "  inputElement.parentElement.appendChild(cancel);\n",
              "  cancel.textContent = 'Cancel upload';\n",
              "  const cancelPromise = new Promise((resolve) => {\n",
              "    cancel.onclick = () => {\n",
              "      resolve(null);\n",
              "    };\n",
              "  });\n",
              "\n",
              "  // Wait for the user to pick the files.\n",
              "  const files = yield {\n",
              "    promise: Promise.race([pickedPromise, cancelPromise]),\n",
              "    response: {\n",
              "      action: 'starting',\n",
              "    }\n",
              "  };\n",
              "\n",
              "  cancel.remove();\n",
              "\n",
              "  // Disable the input element since further picks are not allowed.\n",
              "  inputElement.disabled = true;\n",
              "\n",
              "  if (!files) {\n",
              "    return {\n",
              "      response: {\n",
              "        action: 'complete',\n",
              "      }\n",
              "    };\n",
              "  }\n",
              "\n",
              "  for (const file of files) {\n",
              "    const li = document.createElement('li');\n",
              "    li.append(span(file.name, {fontWeight: 'bold'}));\n",
              "    li.append(span(\n",
              "        `(${file.type || 'n/a'}) - ${file.size} bytes, ` +\n",
              "        `last modified: ${\n",
              "            file.lastModifiedDate ? file.lastModifiedDate.toLocaleDateString() :\n",
              "                                    'n/a'} - `));\n",
              "    const percent = span('0% done');\n",
              "    li.appendChild(percent);\n",
              "\n",
              "    outputElement.appendChild(li);\n",
              "\n",
              "    const fileDataPromise = new Promise((resolve) => {\n",
              "      const reader = new FileReader();\n",
              "      reader.onload = (e) => {\n",
              "        resolve(e.target.result);\n",
              "      };\n",
              "      reader.readAsArrayBuffer(file);\n",
              "    });\n",
              "    // Wait for the data to be ready.\n",
              "    let fileData = yield {\n",
              "      promise: fileDataPromise,\n",
              "      response: {\n",
              "        action: 'continue',\n",
              "      }\n",
              "    };\n",
              "\n",
              "    // Use a chunked sending to avoid message size limits. See b/62115660.\n",
              "    let position = 0;\n",
              "    do {\n",
              "      const length = Math.min(fileData.byteLength - position, MAX_PAYLOAD_SIZE);\n",
              "      const chunk = new Uint8Array(fileData, position, length);\n",
              "      position += length;\n",
              "\n",
              "      const base64 = btoa(String.fromCharCode.apply(null, chunk));\n",
              "      yield {\n",
              "        response: {\n",
              "          action: 'append',\n",
              "          file: file.name,\n",
              "          data: base64,\n",
              "        },\n",
              "      };\n",
              "\n",
              "      let percentDone = fileData.byteLength === 0 ?\n",
              "          100 :\n",
              "          Math.round((position / fileData.byteLength) * 100);\n",
              "      percent.textContent = `${percentDone}% done`;\n",
              "\n",
              "    } while (position < fileData.byteLength);\n",
              "  }\n",
              "\n",
              "  // All done.\n",
              "  yield {\n",
              "    response: {\n",
              "      action: 'complete',\n",
              "    }\n",
              "  };\n",
              "}\n",
              "\n",
              "scope.google = scope.google || {};\n",
              "scope.google.colab = scope.google.colab || {};\n",
              "scope.google.colab._files = {\n",
              "  _uploadFiles,\n",
              "  _uploadFilesContinue,\n",
              "};\n",
              "})(self);\n",
              "</script> "
            ]
          },
          "metadata": {}
        },
        {
          "output_type": "stream",
          "name": "stdout",
          "text": [
            "Saving OSPF.pdf to OSPF.pdf\n",
            "Uploaded file: OSPF.pdf\n"
          ]
        }
      ]
    },
    {
      "cell_type": "markdown",
      "source": [
        "# 12. Load the PDF document using PyPDFLoader"
      ],
      "metadata": {
        "id": "yKk4qoO7vXuZ"
      }
    },
    {
      "cell_type": "code",
      "source": [
        "loader = PyPDFLoader(pdf_filename)\n",
        "documents = loader.load()\n",
        "print(f\"Loaded {len(documents)} document(s) from the PDF.\")"
      ],
      "metadata": {
        "colab": {
          "base_uri": "https://localhost:8080/"
        },
        "id": "CEvkh0gfvYqj",
        "outputId": "15ce6c27-1c42-41de-acbf-6122051b78b4"
      },
      "execution_count": 37,
      "outputs": [
        {
          "output_type": "stream",
          "name": "stdout",
          "text": [
            "Loaded 4 document(s) from the PDF.\n"
          ]
        }
      ]
    },
    {
      "cell_type": "markdown",
      "source": [
        "# 13. Chunk the document(s) into smaller pieces"
      ],
      "metadata": {
        "id": "5RIbgdrmwD2k"
      }
    },
    {
      "cell_type": "code",
      "source": [
        "# Create a text splitter: you can adjust chunk_size and chunk_overlap as needed\n",
        "text_splitter = RecursiveCharacterTextSplitter(chunk_size=500, chunk_overlap=50)\n",
        "chunked_documents = text_splitter.split_documents(documents)\n",
        "print(f\"Split documents into {len(chunked_documents)} chunks.\")"
      ],
      "metadata": {
        "colab": {
          "base_uri": "https://localhost:8080/"
        },
        "id": "lcEM2xPtwE93",
        "outputId": "8fcb950e-532f-4d0a-81c3-81dd2646514c"
      },
      "execution_count": 38,
      "outputs": [
        {
          "output_type": "stream",
          "name": "stdout",
          "text": [
            "Split documents into 19 chunks.\n"
          ]
        }
      ]
    },
    {
      "cell_type": "markdown",
      "source": [
        "# 14. Create a vector store from the chunked documents using OpenAI embeddings and FAISS"
      ],
      "metadata": {
        "id": "iFVVPbK5wIJO"
      }
    },
    {
      "cell_type": "code",
      "source": [
        "embeddings = OpenAIEmbeddings(openai_api_key = openai_api_key)\n",
        "vectorstore = FAISS.from_documents(chunked_documents, embeddings)"
      ],
      "metadata": {
        "id": "pryW27IiwI8S"
      },
      "execution_count": 39,
      "outputs": []
    },
    {
      "cell_type": "markdown",
      "source": [
        "# 15. Create a retriever from the vector store"
      ],
      "metadata": {
        "id": "O0DhknCHwPA4"
      }
    },
    {
      "cell_type": "code",
      "source": [
        "# this object is in charge with fetching relevant chunks\n",
        "retriever = vectorstore.as_retriever(search_type=\"similarity\", search_kwargs={\"k\": 2})"
      ],
      "metadata": {
        "id": "-7Nc1wUswPq-"
      },
      "execution_count": 40,
      "outputs": []
    },
    {
      "cell_type": "markdown",
      "source": [
        "# 16. Set up the OpenAI LLM and build a RetrievalQA chain"
      ],
      "metadata": {
        "id": "iisW2PySwSTM"
      }
    },
    {
      "cell_type": "code",
      "source": [
        "llm = OpenAI(openai_api_key = openai_api_key, temperature=0)  # Using a deterministic output by setting temperature=0\n",
        "qa_chain = RetrievalQA.from_chain_type(llm=llm, chain_type=\"stuff\", retriever=retriever)\n",
        "# this is a class method that creates the RetrievalQA chain by uniting  retriever + LLM\n",
        "# stuff parameter means that chunks are concateneted in one context\n",
        "\n",
        "#qa_chain = RetrievalQA.from_chain_type(llm=llm, chain_type=\"map-reduce\", retriever=retriever)\n",
        "# 1st phase is MAP where LLM processes each chuk individually to produce intermediate outcome. REDUCE phase perform the aggregated (reduced) to create the final answr"
      ],
      "metadata": {
        "id": "CFdXJYL6wTCj"
      },
      "execution_count": 41,
      "outputs": []
    },
    {
      "cell_type": "markdown",
      "source": [
        "# 17. Ask a query and get the result"
      ],
      "metadata": {
        "id": "wqboCgfjwYmY"
      }
    },
    {
      "cell_type": "code",
      "source": [
        "query = \"What is OSPF?\"\n",
        "result = qa_chain.run(query)\n",
        "print(\"Query:\", query)\n",
        "print(\"Answer:\", result)"
      ],
      "metadata": {
        "colab": {
          "base_uri": "https://localhost:8080/"
        },
        "id": "Ek-G7D0uwZSm",
        "outputId": "c5dd9655-83d6-4f4e-d50c-4a43f158b048"
      },
      "execution_count": 43,
      "outputs": [
        {
          "output_type": "stream",
          "name": "stdout",
          "text": [
            "Query: What is OSPF?\n",
            "Answer:  OSPF is a link-state routing protocol used to dynamically determine the best routing paths in IP networks. It is designed by the IETF and is used to distribute routing information within a single autonomous system. Unlike distance-vector protocols, OSPF relies on a more efficient link-state algorithm and supports larger and more complex networks.\n"
          ]
        }
      ]
    },
    {
      "cell_type": "code",
      "source": [],
      "metadata": {
        "id": "PJwp2kdtLhUD"
      },
      "execution_count": null,
      "outputs": []
    }
  ]
}